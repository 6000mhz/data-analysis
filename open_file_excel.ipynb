{
 "cells": [
  {
   "cell_type": "code",
   "execution_count": 103,
   "id": "f07c9fd8",
   "metadata": {},
   "outputs": [],
   "source": [
    "import os\n",
    "import pandas as pd\n",
    "from pathlib import Path"
   ]
  },
  {
   "cell_type": "code",
   "execution_count": 104,
   "id": "089bbe55",
   "metadata": {},
   "outputs": [
    {
     "data": {
      "text/plain": [
       "WindowsPath('my.xlsx')"
      ]
     },
     "execution_count": 104,
     "metadata": {},
     "output_type": "execute_result"
    }
   ],
   "source": [
    "xml_file = Path(\".\") / \"my.xlsx\"\n",
    "xml_file"
   ]
  },
  {
   "cell_type": "code",
   "execution_count": 34,
   "id": "0905653d",
   "metadata": {},
   "outputs": [
    {
     "data": {
      "text/plain": [
       "'C:\\\\Users\\\\ayrat'"
      ]
     },
     "execution_count": 34,
     "metadata": {},
     "output_type": "execute_result"
    }
   ],
   "source": [
    "path = os.getcwd()\n",
    "path"
   ]
  },
  {
   "cell_type": "code",
   "execution_count": 125,
   "id": "adc0e545",
   "metadata": {},
   "outputs": [
    {
     "data": {
      "text/plain": [
       "['1.xlsx', '2.xlsx']"
      ]
     },
     "execution_count": 125,
     "metadata": {},
     "output_type": "execute_result"
    }
   ],
   "source": [
    "files = os.listdir('C:/Users/ayrat/OneDrive/Рабочий стол/Excel')\n",
    "files"
   ]
  },
  {
   "cell_type": "code",
   "execution_count": 143,
   "id": "4b229820",
   "metadata": {},
   "outputs": [
    {
     "data": {
      "text/plain": [
       "['1.xlsx', '2.xlsx']"
      ]
     },
     "execution_count": 143,
     "metadata": {},
     "output_type": "execute_result"
    }
   ],
   "source": [
    "files_xls = [f for f in files if f[-4:] == 'xlsx']\n",
    "files_xls"
   ]
  },
  {
   "cell_type": "code",
   "execution_count": 156,
   "id": "76d84810",
   "metadata": {},
   "outputs": [
    {
     "data": {
      "text/plain": [
       "['C:/Users/ayrat/OneDrive/Рабочий стол/Excel/1.xlsx',\n",
       " 'C:/Users/ayrat/OneDrive/Рабочий стол/Excel/2.xlsx']"
      ]
     },
     "execution_count": 156,
     "metadata": {},
     "output_type": "execute_result"
    }
   ],
   "source": [
    "files_xls = ['C:/Users/ayrat/OneDrive/Рабочий стол/Excel/'+f for f in files if f[-4:] == 'xlsx']\n",
    "files_xls"
   ]
  },
  {
   "cell_type": "code",
   "execution_count": 101,
   "id": "cc9a699f",
   "metadata": {},
   "outputs": [],
   "source": [
    "df = pd.DataFrame()"
   ]
  },
  {
   "cell_type": "code",
   "execution_count": 89,
   "id": "b908d857",
   "metadata": {},
   "outputs": [],
   "source": [
    "x = 0\n",
    "for f in files_xls:\n",
    "    data = pd.read_excel(f, 'Лист1')\n",
    "    data['имя файла'] = files_xls[x].split('/')[len(files_xls[0].split('/'))-1]\n",
    "    x += 1\n",
    "    df = df.append(data)"
   ]
  },
  {
   "cell_type": "code",
   "execution_count": 107,
   "id": "4a84b64a",
   "metadata": {},
   "outputs": [
    {
     "data": {
      "text/plain": [
       "['C:', 'Users', 'ayrat', 'OneDrive', 'Рабочий стол', 'Excel', '1.xlsx']"
      ]
     },
     "execution_count": 107,
     "metadata": {},
     "output_type": "execute_result"
    }
   ],
   "source": [
    "files_xls[0].split('/')"
   ]
  },
  {
   "cell_type": "code",
   "execution_count": 90,
   "id": "ef1435cb",
   "metadata": {},
   "outputs": [
    {
     "data": {
      "text/html": [
       "<div>\n",
       "<style scoped>\n",
       "    .dataframe tbody tr th:only-of-type {\n",
       "        vertical-align: middle;\n",
       "    }\n",
       "\n",
       "    .dataframe tbody tr th {\n",
       "        vertical-align: top;\n",
       "    }\n",
       "\n",
       "    .dataframe thead th {\n",
       "        text-align: right;\n",
       "    }\n",
       "</style>\n",
       "<table border=\"1\" class=\"dataframe\">\n",
       "  <thead>\n",
       "    <tr style=\"text-align: right;\">\n",
       "      <th></th>\n",
       "      <th>Unnamed: 0</th>\n",
       "      <th>Unnamed: 1</th>\n",
       "      <th>Unnamed: 2</th>\n",
       "      <th>имя файла</th>\n",
       "    </tr>\n",
       "  </thead>\n",
       "  <tbody>\n",
       "    <tr>\n",
       "      <th>0</th>\n",
       "      <td>NaN</td>\n",
       "      <td>NaN</td>\n",
       "      <td>NaN</td>\n",
       "      <td>1.xlsx</td>\n",
       "    </tr>\n",
       "    <tr>\n",
       "      <th>1</th>\n",
       "      <td>1</td>\n",
       "      <td>2</td>\n",
       "      <td>3</td>\n",
       "      <td>1.xlsx</td>\n",
       "    </tr>\n",
       "    <tr>\n",
       "      <th>2</th>\n",
       "      <td>арбуз</td>\n",
       "      <td>тыква</td>\n",
       "      <td>апельсин</td>\n",
       "      <td>1.xlsx</td>\n",
       "    </tr>\n",
       "    <tr>\n",
       "      <th>0</th>\n",
       "      <td>NaN</td>\n",
       "      <td>NaN</td>\n",
       "      <td>NaN</td>\n",
       "      <td>2.xlsx</td>\n",
       "    </tr>\n",
       "    <tr>\n",
       "      <th>1</th>\n",
       "      <td>1</td>\n",
       "      <td>2</td>\n",
       "      <td>3</td>\n",
       "      <td>2.xlsx</td>\n",
       "    </tr>\n",
       "    <tr>\n",
       "      <th>2</th>\n",
       "      <td>мандарин</td>\n",
       "      <td>слива</td>\n",
       "      <td>дыня</td>\n",
       "      <td>2.xlsx</td>\n",
       "    </tr>\n",
       "  </tbody>\n",
       "</table>\n",
       "</div>"
      ],
      "text/plain": [
       "  Unnamed: 0 Unnamed: 1 Unnamed: 2 имя файла\n",
       "0        NaN        NaN        NaN    1.xlsx\n",
       "1          1          2          3    1.xlsx\n",
       "2      арбуз      тыква   апельсин    1.xlsx\n",
       "0        NaN        NaN        NaN    2.xlsx\n",
       "1          1          2          3    2.xlsx\n",
       "2   мандарин      слива       дыня    2.xlsx"
      ]
     },
     "execution_count": 90,
     "metadata": {},
     "output_type": "execute_result"
    }
   ],
   "source": [
    "df"
   ]
  },
  {
   "cell_type": "code",
   "execution_count": 98,
   "id": "3b12e680",
   "metadata": {},
   "outputs": [],
   "source": [
    "for f in files_xls:\n",
    "    data = pd.read_excel('C:/Users/ayrat/OneDrive/Рабочий стол/Excel/'+f, 'Лист1')\n",
    "    data['имя файла'] = f\n",
    "    df = df.append(data)"
   ]
  },
  {
   "cell_type": "code",
   "execution_count": 99,
   "id": "111e94d0",
   "metadata": {},
   "outputs": [
    {
     "data": {
      "text/html": [
       "<div>\n",
       "<style scoped>\n",
       "    .dataframe tbody tr th:only-of-type {\n",
       "        vertical-align: middle;\n",
       "    }\n",
       "\n",
       "    .dataframe tbody tr th {\n",
       "        vertical-align: top;\n",
       "    }\n",
       "\n",
       "    .dataframe thead th {\n",
       "        text-align: right;\n",
       "    }\n",
       "</style>\n",
       "<table border=\"1\" class=\"dataframe\">\n",
       "  <thead>\n",
       "    <tr style=\"text-align: right;\">\n",
       "      <th></th>\n",
       "      <th>Unnamed: 0</th>\n",
       "      <th>Unnamed: 1</th>\n",
       "      <th>Unnamed: 2</th>\n",
       "      <th>имя файла</th>\n",
       "    </tr>\n",
       "  </thead>\n",
       "  <tbody>\n",
       "    <tr>\n",
       "      <th>0</th>\n",
       "      <td>NaN</td>\n",
       "      <td>NaN</td>\n",
       "      <td>NaN</td>\n",
       "      <td>1.xlsx</td>\n",
       "    </tr>\n",
       "    <tr>\n",
       "      <th>1</th>\n",
       "      <td>1</td>\n",
       "      <td>2</td>\n",
       "      <td>3</td>\n",
       "      <td>1.xlsx</td>\n",
       "    </tr>\n",
       "    <tr>\n",
       "      <th>2</th>\n",
       "      <td>арбуз</td>\n",
       "      <td>тыква</td>\n",
       "      <td>апельсин</td>\n",
       "      <td>1.xlsx</td>\n",
       "    </tr>\n",
       "    <tr>\n",
       "      <th>0</th>\n",
       "      <td>NaN</td>\n",
       "      <td>NaN</td>\n",
       "      <td>NaN</td>\n",
       "      <td>2.xlsx</td>\n",
       "    </tr>\n",
       "    <tr>\n",
       "      <th>1</th>\n",
       "      <td>1</td>\n",
       "      <td>2</td>\n",
       "      <td>3</td>\n",
       "      <td>2.xlsx</td>\n",
       "    </tr>\n",
       "    <tr>\n",
       "      <th>2</th>\n",
       "      <td>мандарин</td>\n",
       "      <td>слива</td>\n",
       "      <td>дыня</td>\n",
       "      <td>2.xlsx</td>\n",
       "    </tr>\n",
       "  </tbody>\n",
       "</table>\n",
       "</div>"
      ],
      "text/plain": [
       "  Unnamed: 0 Unnamed: 1 Unnamed: 2 имя файла\n",
       "0        NaN        NaN        NaN    1.xlsx\n",
       "1          1          2          3    1.xlsx\n",
       "2      арбуз      тыква   апельсин    1.xlsx\n",
       "0        NaN        NaN        NaN    2.xlsx\n",
       "1          1          2          3    2.xlsx\n",
       "2   мандарин      слива       дыня    2.xlsx"
      ]
     },
     "execution_count": 99,
     "metadata": {},
     "output_type": "execute_result"
    }
   ],
   "source": [
    "df"
   ]
  },
  {
   "cell_type": "code",
   "execution_count": 114,
   "id": "440be732",
   "metadata": {},
   "outputs": [
    {
     "ename": "OSError",
     "evalue": "[Errno 22] Invalid argument: 'C:/Users/ayrat/OneDrive/Рабочий стол/Excel/C:/Users/ayrat/OneDrive/Рабочий стол/Excel/1.xlsx'",
     "output_type": "error",
     "traceback": [
      "\u001b[1;31m---------------------------------------------------------------------------\u001b[0m",
      "\u001b[1;31mOSError\u001b[0m                                   Traceback (most recent call last)",
      "\u001b[1;32m~\\AppData\\Local\\Temp\\ipykernel_14476\\3129851283.py\u001b[0m in \u001b[0;36m<module>\u001b[1;34m\u001b[0m\n\u001b[0;32m      1\u001b[0m \u001b[1;32mfor\u001b[0m \u001b[0mf\u001b[0m \u001b[1;32min\u001b[0m \u001b[0mfiles_xls\u001b[0m\u001b[1;33m:\u001b[0m\u001b[1;33m\u001b[0m\u001b[1;33m\u001b[0m\u001b[0m\n\u001b[1;32m----> 2\u001b[1;33m     \u001b[1;32mwith\u001b[0m \u001b[0mopen\u001b[0m\u001b[1;33m(\u001b[0m\u001b[1;34m'C:/Users/ayrat/OneDrive/Рабочий стол/Excel/'\u001b[0m\u001b[1;33m+\u001b[0m\u001b[0mf\u001b[0m\u001b[1;33m,\u001b[0m \u001b[1;34m'r'\u001b[0m\u001b[1;33m)\u001b[0m \u001b[1;32mas\u001b[0m \u001b[0mfile\u001b[0m\u001b[1;33m:\u001b[0m\u001b[1;33m\u001b[0m\u001b[1;33m\u001b[0m\u001b[0m\n\u001b[0m\u001b[0;32m      3\u001b[0m         \u001b[0mfile\u001b[0m\u001b[1;33m\u001b[0m\u001b[1;33m\u001b[0m\u001b[0m\n\u001b[0;32m      4\u001b[0m     \u001b[1;31m#data = pd.read_excel(f, 'Лист1')\u001b[0m\u001b[1;33m\u001b[0m\u001b[1;33m\u001b[0m\u001b[1;33m\u001b[0m\u001b[0m\n\u001b[0;32m      5\u001b[0m     \u001b[1;31m#data['имя файла'] = f\u001b[0m\u001b[1;33m\u001b[0m\u001b[1;33m\u001b[0m\u001b[1;33m\u001b[0m\u001b[0m\n",
      "\u001b[1;31mOSError\u001b[0m: [Errno 22] Invalid argument: 'C:/Users/ayrat/OneDrive/Рабочий стол/Excel/C:/Users/ayrat/OneDrive/Рабочий стол/Excel/1.xlsx'"
     ]
    }
   ],
   "source": [
    "for f in files_xls:\n",
    "    with open('C:/Users/ayrat/OneDrive/Рабочий стол/Excel/'+f, 'r') as file:\n",
    "        file\n",
    "    #data = pd.read_excel(f, 'Лист1')\n",
    "    #data['имя файла'] = f\n",
    "    #df = df.append(file)"
   ]
  },
  {
   "cell_type": "code",
   "execution_count": 174,
   "id": "772f85f9",
   "metadata": {},
   "outputs": [
    {
     "name": "stdout",
     "output_type": "stream",
     "text": [
      "Ольга rin@mail.ru 45\n",
      "Артём knkjmbwwe@gmail.com 40\n",
      "Нагиев kptvmbjlrs@gmail.com 81\n",
      "Пенг zrlddzogc@mail\n"
     ]
    }
   ],
   "source": [
    "with open('C:/Users/ayrat/OneDrive/Рабочий стол/registrations_.txt','r', encoding=\"utf-8\") as file:\n",
    "    print(file.read()[0:100])"
   ]
  },
  {
   "cell_type": "code",
   "execution_count": 153,
   "id": "40eaf457",
   "metadata": {},
   "outputs": [],
   "source": [
    "file = open(files_xls[0], 'wb')\n",
    "file.close()"
   ]
  },
  {
   "cell_type": "code",
   "execution_count": null,
   "id": "56a4eadd",
   "metadata": {},
   "outputs": [],
   "source": [
    "from geopandas import GeoDataFrame\n",
    "df = GeoDataFrame.from_file(\"CARPARKS.mid\")\n",
    "df"
   ]
  },
  {
   "cell_type": "code",
   "execution_count": 28,
   "id": "7a14f0b6",
   "metadata": {},
   "outputs": [
    {
     "data": {
      "text/html": [
       "<div>\n",
       "<style scoped>\n",
       "    .dataframe tbody tr th:only-of-type {\n",
       "        vertical-align: middle;\n",
       "    }\n",
       "\n",
       "    .dataframe tbody tr th {\n",
       "        vertical-align: top;\n",
       "    }\n",
       "\n",
       "    .dataframe thead th {\n",
       "        text-align: right;\n",
       "    }\n",
       "</style>\n",
       "<table border=\"1\" class=\"dataframe\">\n",
       "  <thead>\n",
       "    <tr style=\"text-align: right;\">\n",
       "      <th></th>\n",
       "      <th>Unnamed: 0</th>\n",
       "      <th>Unnamed: 1</th>\n",
       "      <th>Unnamed: 2</th>\n",
       "      <th>имя файла</th>\n",
       "    </tr>\n",
       "  </thead>\n",
       "  <tbody>\n",
       "    <tr>\n",
       "      <th>0</th>\n",
       "      <td>NaN</td>\n",
       "      <td>NaN</td>\n",
       "      <td>NaN</td>\n",
       "      <td>1.xlsx</td>\n",
       "    </tr>\n",
       "    <tr>\n",
       "      <th>1</th>\n",
       "      <td>1</td>\n",
       "      <td>2</td>\n",
       "      <td>3</td>\n",
       "      <td>1.xlsx</td>\n",
       "    </tr>\n",
       "    <tr>\n",
       "      <th>2</th>\n",
       "      <td>арбуз</td>\n",
       "      <td>тыква</td>\n",
       "      <td>апельсин</td>\n",
       "      <td>1.xlsx</td>\n",
       "    </tr>\n",
       "    <tr>\n",
       "      <th>0</th>\n",
       "      <td>NaN</td>\n",
       "      <td>NaN</td>\n",
       "      <td>NaN</td>\n",
       "      <td>2.xlsx</td>\n",
       "    </tr>\n",
       "    <tr>\n",
       "      <th>1</th>\n",
       "      <td>1</td>\n",
       "      <td>2</td>\n",
       "      <td>3</td>\n",
       "      <td>2.xlsx</td>\n",
       "    </tr>\n",
       "    <tr>\n",
       "      <th>2</th>\n",
       "      <td>мандарин</td>\n",
       "      <td>слива</td>\n",
       "      <td>дыня</td>\n",
       "      <td>2.xlsx</td>\n",
       "    </tr>\n",
       "  </tbody>\n",
       "</table>\n",
       "</div>"
      ],
      "text/plain": [
       "  Unnamed: 0 Unnamed: 1 Unnamed: 2 имя файла\n",
       "0        NaN        NaN        NaN    1.xlsx\n",
       "1          1          2          3    1.xlsx\n",
       "2      арбуз      тыква   апельсин    1.xlsx\n",
       "0        NaN        NaN        NaN    2.xlsx\n",
       "1          1          2          3    2.xlsx\n",
       "2   мандарин      слива       дыня    2.xlsx"
      ]
     },
     "execution_count": 28,
     "metadata": {},
     "output_type": "execute_result"
    }
   ],
   "source": [
    "df"
   ]
  },
  {
   "cell_type": "code",
   "execution_count": 29,
   "id": "97c1e563",
   "metadata": {},
   "outputs": [
    {
     "data": {
      "text/html": [
       "<div>\n",
       "<style scoped>\n",
       "    .dataframe tbody tr th:only-of-type {\n",
       "        vertical-align: middle;\n",
       "    }\n",
       "\n",
       "    .dataframe tbody tr th {\n",
       "        vertical-align: top;\n",
       "    }\n",
       "\n",
       "    .dataframe thead th {\n",
       "        text-align: right;\n",
       "    }\n",
       "</style>\n",
       "<table border=\"1\" class=\"dataframe\">\n",
       "  <thead>\n",
       "    <tr style=\"text-align: right;\">\n",
       "      <th></th>\n",
       "      <th>index</th>\n",
       "      <th>Unnamed: 0</th>\n",
       "      <th>Unnamed: 1</th>\n",
       "      <th>Unnamed: 2</th>\n",
       "      <th>имя файла</th>\n",
       "    </tr>\n",
       "  </thead>\n",
       "  <tbody>\n",
       "    <tr>\n",
       "      <th>0</th>\n",
       "      <td>0</td>\n",
       "      <td>NaN</td>\n",
       "      <td>NaN</td>\n",
       "      <td>NaN</td>\n",
       "      <td>1.xlsx</td>\n",
       "    </tr>\n",
       "    <tr>\n",
       "      <th>1</th>\n",
       "      <td>1</td>\n",
       "      <td>1</td>\n",
       "      <td>2</td>\n",
       "      <td>3</td>\n",
       "      <td>1.xlsx</td>\n",
       "    </tr>\n",
       "    <tr>\n",
       "      <th>2</th>\n",
       "      <td>2</td>\n",
       "      <td>арбуз</td>\n",
       "      <td>тыква</td>\n",
       "      <td>апельсин</td>\n",
       "      <td>1.xlsx</td>\n",
       "    </tr>\n",
       "    <tr>\n",
       "      <th>3</th>\n",
       "      <td>0</td>\n",
       "      <td>NaN</td>\n",
       "      <td>NaN</td>\n",
       "      <td>NaN</td>\n",
       "      <td>2.xlsx</td>\n",
       "    </tr>\n",
       "    <tr>\n",
       "      <th>4</th>\n",
       "      <td>1</td>\n",
       "      <td>1</td>\n",
       "      <td>2</td>\n",
       "      <td>3</td>\n",
       "      <td>2.xlsx</td>\n",
       "    </tr>\n",
       "    <tr>\n",
       "      <th>5</th>\n",
       "      <td>2</td>\n",
       "      <td>мандарин</td>\n",
       "      <td>слива</td>\n",
       "      <td>дыня</td>\n",
       "      <td>2.xlsx</td>\n",
       "    </tr>\n",
       "  </tbody>\n",
       "</table>\n",
       "</div>"
      ],
      "text/plain": [
       "   index Unnamed: 0 Unnamed: 1 Unnamed: 2 имя файла\n",
       "0      0        NaN        NaN        NaN    1.xlsx\n",
       "1      1          1          2          3    1.xlsx\n",
       "2      2      арбуз      тыква   апельсин    1.xlsx\n",
       "3      0        NaN        NaN        NaN    2.xlsx\n",
       "4      1          1          2          3    2.xlsx\n",
       "5      2   мандарин      слива       дыня    2.xlsx"
      ]
     },
     "execution_count": 29,
     "metadata": {},
     "output_type": "execute_result"
    }
   ],
   "source": [
    "df.reset_index()"
   ]
  },
  {
   "cell_type": "code",
   "execution_count": 30,
   "id": "bfca8d97",
   "metadata": {},
   "outputs": [
    {
     "data": {
      "text/html": [
       "<div>\n",
       "<style scoped>\n",
       "    .dataframe tbody tr th:only-of-type {\n",
       "        vertical-align: middle;\n",
       "    }\n",
       "\n",
       "    .dataframe tbody tr th {\n",
       "        vertical-align: top;\n",
       "    }\n",
       "\n",
       "    .dataframe thead th {\n",
       "        text-align: right;\n",
       "    }\n",
       "</style>\n",
       "<table border=\"1\" class=\"dataframe\">\n",
       "  <thead>\n",
       "    <tr style=\"text-align: right;\">\n",
       "      <th></th>\n",
       "      <th>Unnamed: 0</th>\n",
       "      <th>Unnamed: 1</th>\n",
       "      <th>Unnamed: 2</th>\n",
       "      <th>имя файла</th>\n",
       "    </tr>\n",
       "  </thead>\n",
       "  <tbody>\n",
       "    <tr>\n",
       "      <th>0</th>\n",
       "      <td>NaN</td>\n",
       "      <td>NaN</td>\n",
       "      <td>NaN</td>\n",
       "      <td>1.xlsx</td>\n",
       "    </tr>\n",
       "    <tr>\n",
       "      <th>1</th>\n",
       "      <td>1</td>\n",
       "      <td>2</td>\n",
       "      <td>3</td>\n",
       "      <td>1.xlsx</td>\n",
       "    </tr>\n",
       "    <tr>\n",
       "      <th>2</th>\n",
       "      <td>арбуз</td>\n",
       "      <td>тыква</td>\n",
       "      <td>апельсин</td>\n",
       "      <td>1.xlsx</td>\n",
       "    </tr>\n",
       "    <tr>\n",
       "      <th>3</th>\n",
       "      <td>NaN</td>\n",
       "      <td>NaN</td>\n",
       "      <td>NaN</td>\n",
       "      <td>2.xlsx</td>\n",
       "    </tr>\n",
       "    <tr>\n",
       "      <th>4</th>\n",
       "      <td>1</td>\n",
       "      <td>2</td>\n",
       "      <td>3</td>\n",
       "      <td>2.xlsx</td>\n",
       "    </tr>\n",
       "    <tr>\n",
       "      <th>5</th>\n",
       "      <td>мандарин</td>\n",
       "      <td>слива</td>\n",
       "      <td>дыня</td>\n",
       "      <td>2.xlsx</td>\n",
       "    </tr>\n",
       "  </tbody>\n",
       "</table>\n",
       "</div>"
      ],
      "text/plain": [
       "  Unnamed: 0 Unnamed: 1 Unnamed: 2 имя файла\n",
       "0        NaN        NaN        NaN    1.xlsx\n",
       "1          1          2          3    1.xlsx\n",
       "2      арбуз      тыква   апельсин    1.xlsx\n",
       "3        NaN        NaN        NaN    2.xlsx\n",
       "4          1          2          3    2.xlsx\n",
       "5   мандарин      слива       дыня    2.xlsx"
      ]
     },
     "execution_count": 30,
     "metadata": {},
     "output_type": "execute_result"
    }
   ],
   "source": [
    "df.reset_index(drop = True)"
   ]
  },
  {
   "cell_type": "code",
   "execution_count": 31,
   "id": "434be5a7",
   "metadata": {},
   "outputs": [
    {
     "name": "stdout",
     "output_type": "stream",
     "text": [
      "503 µs ± 27.7 µs per loop (mean ± std. dev. of 7 runs, 1000 loops each)\n"
     ]
    }
   ],
   "source": [
    "%%timeit \n",
    "df.loc[df['Unnamed: 0'] == 1, 'text_rating'] = 'Pass'"
   ]
  },
  {
   "cell_type": "code",
   "execution_count": 32,
   "id": "114b304c",
   "metadata": {},
   "outputs": [
    {
     "data": {
      "text/html": [
       "<div>\n",
       "<style scoped>\n",
       "    .dataframe tbody tr th:only-of-type {\n",
       "        vertical-align: middle;\n",
       "    }\n",
       "\n",
       "    .dataframe tbody tr th {\n",
       "        vertical-align: top;\n",
       "    }\n",
       "\n",
       "    .dataframe thead th {\n",
       "        text-align: right;\n",
       "    }\n",
       "</style>\n",
       "<table border=\"1\" class=\"dataframe\">\n",
       "  <thead>\n",
       "    <tr style=\"text-align: right;\">\n",
       "      <th></th>\n",
       "      <th>Unnamed: 0</th>\n",
       "      <th>Unnamed: 1</th>\n",
       "      <th>Unnamed: 2</th>\n",
       "      <th>имя файла</th>\n",
       "      <th>text_rating</th>\n",
       "    </tr>\n",
       "  </thead>\n",
       "  <tbody>\n",
       "    <tr>\n",
       "      <th>0</th>\n",
       "      <td>NaN</td>\n",
       "      <td>NaN</td>\n",
       "      <td>NaN</td>\n",
       "      <td>1.xlsx</td>\n",
       "      <td>NaN</td>\n",
       "    </tr>\n",
       "    <tr>\n",
       "      <th>1</th>\n",
       "      <td>1</td>\n",
       "      <td>2</td>\n",
       "      <td>3</td>\n",
       "      <td>1.xlsx</td>\n",
       "      <td>Pass</td>\n",
       "    </tr>\n",
       "    <tr>\n",
       "      <th>2</th>\n",
       "      <td>арбуз</td>\n",
       "      <td>тыква</td>\n",
       "      <td>апельсин</td>\n",
       "      <td>1.xlsx</td>\n",
       "      <td>NaN</td>\n",
       "    </tr>\n",
       "    <tr>\n",
       "      <th>0</th>\n",
       "      <td>NaN</td>\n",
       "      <td>NaN</td>\n",
       "      <td>NaN</td>\n",
       "      <td>2.xlsx</td>\n",
       "      <td>NaN</td>\n",
       "    </tr>\n",
       "    <tr>\n",
       "      <th>1</th>\n",
       "      <td>1</td>\n",
       "      <td>2</td>\n",
       "      <td>3</td>\n",
       "      <td>2.xlsx</td>\n",
       "      <td>Pass</td>\n",
       "    </tr>\n",
       "    <tr>\n",
       "      <th>2</th>\n",
       "      <td>мандарин</td>\n",
       "      <td>слива</td>\n",
       "      <td>дыня</td>\n",
       "      <td>2.xlsx</td>\n",
       "      <td>NaN</td>\n",
       "    </tr>\n",
       "  </tbody>\n",
       "</table>\n",
       "</div>"
      ],
      "text/plain": [
       "  Unnamed: 0 Unnamed: 1 Unnamed: 2 имя файла text_rating\n",
       "0        NaN        NaN        NaN    1.xlsx         NaN\n",
       "1          1          2          3    1.xlsx        Pass\n",
       "2      арбуз      тыква   апельсин    1.xlsx         NaN\n",
       "0        NaN        NaN        NaN    2.xlsx         NaN\n",
       "1          1          2          3    2.xlsx        Pass\n",
       "2   мандарин      слива       дыня    2.xlsx         NaN"
      ]
     },
     "execution_count": 32,
     "metadata": {},
     "output_type": "execute_result"
    }
   ],
   "source": [
    "df"
   ]
  },
  {
   "cell_type": "code",
   "execution_count": null,
   "id": "ed18bd10",
   "metadata": {},
   "outputs": [],
   "source": [
    "df = pd.DataFrame([('bird', 389.0),\n",
    "                   ('bird', 24.0),\n",
    "                   ('mammal', 80.5),\n",
    "                   ('mammal', np.nan)],\n",
    "                  index=['falcon', 'parrot', 'lion', 'monkey'],\n",
    "                  columns=('class', 'max_speed'))"
   ]
  },
  {
   "cell_type": "code",
   "execution_count": null,
   "id": "7417306a",
   "metadata": {},
   "outputs": [],
   "source": [
    ".loc — используется для доступа по строковой метке — т.е. фактически по значению индекса и по названию столбца\n",
    ".iloc — используется для доступа по числовому значению (начиная от 0) — т.е. по номеру строки и номеру столбца"
   ]
  },
  {
   "cell_type": "code",
   "execution_count": 36,
   "id": "9727be6a",
   "metadata": {},
   "outputs": [
    {
     "data": {
      "text/plain": [
       "1    1\n",
       "1    1\n",
       "Name: Unnamed: 0, dtype: object"
      ]
     },
     "execution_count": 36,
     "metadata": {},
     "output_type": "execute_result"
    }
   ],
   "source": [
    "df.loc[1,'Unnamed: 0']"
   ]
  },
  {
   "cell_type": "code",
   "execution_count": 38,
   "id": "e75626c3",
   "metadata": {},
   "outputs": [
    {
     "data": {
      "text/plain": [
       "3"
      ]
     },
     "execution_count": 38,
     "metadata": {},
     "output_type": "execute_result"
    }
   ],
   "source": [
    "df.iloc[1,2]"
   ]
  },
  {
   "cell_type": "code",
   "execution_count": 44,
   "id": "3e471a34",
   "metadata": {},
   "outputs": [
    {
     "data": {
      "text/plain": [
       "<bound method Index.drop of Int64Index([0, 1, 2, 0, 1, 2], dtype='int64')>"
      ]
     },
     "execution_count": 44,
     "metadata": {},
     "output_type": "execute_result"
    }
   ],
   "source": [
    "df.index.drop"
   ]
  },
  {
   "cell_type": "code",
   "execution_count": 45,
   "id": "541cbe21",
   "metadata": {},
   "outputs": [
    {
     "data": {
      "text/html": [
       "<div>\n",
       "<style scoped>\n",
       "    .dataframe tbody tr th:only-of-type {\n",
       "        vertical-align: middle;\n",
       "    }\n",
       "\n",
       "    .dataframe tbody tr th {\n",
       "        vertical-align: top;\n",
       "    }\n",
       "\n",
       "    .dataframe thead th {\n",
       "        text-align: right;\n",
       "    }\n",
       "</style>\n",
       "<table border=\"1\" class=\"dataframe\">\n",
       "  <thead>\n",
       "    <tr style=\"text-align: right;\">\n",
       "      <th></th>\n",
       "      <th>Unnamed: 0</th>\n",
       "      <th>Unnamed: 1</th>\n",
       "      <th>Unnamed: 2</th>\n",
       "      <th>имя файла</th>\n",
       "      <th>text_rating</th>\n",
       "    </tr>\n",
       "  </thead>\n",
       "  <tbody>\n",
       "    <tr>\n",
       "      <th>0</th>\n",
       "      <td>NaN</td>\n",
       "      <td>NaN</td>\n",
       "      <td>NaN</td>\n",
       "      <td>1.xlsx</td>\n",
       "      <td>NaN</td>\n",
       "    </tr>\n",
       "    <tr>\n",
       "      <th>1</th>\n",
       "      <td>1</td>\n",
       "      <td>2</td>\n",
       "      <td>3</td>\n",
       "      <td>1.xlsx</td>\n",
       "      <td>Pass</td>\n",
       "    </tr>\n",
       "    <tr>\n",
       "      <th>2</th>\n",
       "      <td>арбуз</td>\n",
       "      <td>тыква</td>\n",
       "      <td>апельсин</td>\n",
       "      <td>1.xlsx</td>\n",
       "      <td>NaN</td>\n",
       "    </tr>\n",
       "    <tr>\n",
       "      <th>0</th>\n",
       "      <td>NaN</td>\n",
       "      <td>NaN</td>\n",
       "      <td>NaN</td>\n",
       "      <td>2.xlsx</td>\n",
       "      <td>NaN</td>\n",
       "    </tr>\n",
       "    <tr>\n",
       "      <th>1</th>\n",
       "      <td>1</td>\n",
       "      <td>2</td>\n",
       "      <td>3</td>\n",
       "      <td>2.xlsx</td>\n",
       "      <td>Pass</td>\n",
       "    </tr>\n",
       "    <tr>\n",
       "      <th>2</th>\n",
       "      <td>мандарин</td>\n",
       "      <td>слива</td>\n",
       "      <td>дыня</td>\n",
       "      <td>2.xlsx</td>\n",
       "      <td>NaN</td>\n",
       "    </tr>\n",
       "  </tbody>\n",
       "</table>\n",
       "</div>"
      ],
      "text/plain": [
       "  Unnamed: 0 Unnamed: 1 Unnamed: 2 имя файла text_rating\n",
       "0        NaN        NaN        NaN    1.xlsx         NaN\n",
       "1          1          2          3    1.xlsx        Pass\n",
       "2      арбуз      тыква   апельсин    1.xlsx         NaN\n",
       "0        NaN        NaN        NaN    2.xlsx         NaN\n",
       "1          1          2          3    2.xlsx        Pass\n",
       "2   мандарин      слива       дыня    2.xlsx         NaN"
      ]
     },
     "execution_count": 45,
     "metadata": {},
     "output_type": "execute_result"
    }
   ],
   "source": [
    "df"
   ]
  },
  {
   "cell_type": "code",
   "execution_count": 46,
   "id": "98365824",
   "metadata": {},
   "outputs": [
    {
     "data": {
      "text/html": [
       "<style type=\"text/css\">\n",
       "</style>\n",
       "<table id=\"T_7a3f0_\">\n",
       "  <thead>\n",
       "    <tr>\n",
       "      <th class=\"col_heading level0 col0\" >Unnamed: 0</th>\n",
       "      <th class=\"col_heading level0 col1\" >Unnamed: 1</th>\n",
       "      <th class=\"col_heading level0 col2\" >Unnamed: 2</th>\n",
       "      <th class=\"col_heading level0 col3\" >имя файла</th>\n",
       "      <th class=\"col_heading level0 col4\" >text_rating</th>\n",
       "    </tr>\n",
       "  </thead>\n",
       "  <tbody>\n",
       "    <tr>\n",
       "      <td id=\"T_7a3f0_row0_col0\" class=\"data row0 col0\" >nan</td>\n",
       "      <td id=\"T_7a3f0_row0_col1\" class=\"data row0 col1\" >nan</td>\n",
       "      <td id=\"T_7a3f0_row0_col2\" class=\"data row0 col2\" >nan</td>\n",
       "      <td id=\"T_7a3f0_row0_col3\" class=\"data row0 col3\" >1.xlsx</td>\n",
       "      <td id=\"T_7a3f0_row0_col4\" class=\"data row0 col4\" >nan</td>\n",
       "    </tr>\n",
       "    <tr>\n",
       "      <td id=\"T_7a3f0_row1_col0\" class=\"data row1 col0\" >1</td>\n",
       "      <td id=\"T_7a3f0_row1_col1\" class=\"data row1 col1\" >2</td>\n",
       "      <td id=\"T_7a3f0_row1_col2\" class=\"data row1 col2\" >3</td>\n",
       "      <td id=\"T_7a3f0_row1_col3\" class=\"data row1 col3\" >1.xlsx</td>\n",
       "      <td id=\"T_7a3f0_row1_col4\" class=\"data row1 col4\" >Pass</td>\n",
       "    </tr>\n",
       "    <tr>\n",
       "      <td id=\"T_7a3f0_row2_col0\" class=\"data row2 col0\" >арбуз</td>\n",
       "      <td id=\"T_7a3f0_row2_col1\" class=\"data row2 col1\" >тыква</td>\n",
       "      <td id=\"T_7a3f0_row2_col2\" class=\"data row2 col2\" >апельсин</td>\n",
       "      <td id=\"T_7a3f0_row2_col3\" class=\"data row2 col3\" >1.xlsx</td>\n",
       "      <td id=\"T_7a3f0_row2_col4\" class=\"data row2 col4\" >nan</td>\n",
       "    </tr>\n",
       "    <tr>\n",
       "      <td id=\"T_7a3f0_row3_col0\" class=\"data row3 col0\" >nan</td>\n",
       "      <td id=\"T_7a3f0_row3_col1\" class=\"data row3 col1\" >nan</td>\n",
       "      <td id=\"T_7a3f0_row3_col2\" class=\"data row3 col2\" >nan</td>\n",
       "      <td id=\"T_7a3f0_row3_col3\" class=\"data row3 col3\" >2.xlsx</td>\n",
       "      <td id=\"T_7a3f0_row3_col4\" class=\"data row3 col4\" >nan</td>\n",
       "    </tr>\n",
       "    <tr>\n",
       "      <td id=\"T_7a3f0_row4_col0\" class=\"data row4 col0\" >1</td>\n",
       "      <td id=\"T_7a3f0_row4_col1\" class=\"data row4 col1\" >2</td>\n",
       "      <td id=\"T_7a3f0_row4_col2\" class=\"data row4 col2\" >3</td>\n",
       "      <td id=\"T_7a3f0_row4_col3\" class=\"data row4 col3\" >2.xlsx</td>\n",
       "      <td id=\"T_7a3f0_row4_col4\" class=\"data row4 col4\" >Pass</td>\n",
       "    </tr>\n",
       "    <tr>\n",
       "      <td id=\"T_7a3f0_row5_col0\" class=\"data row5 col0\" >мандарин</td>\n",
       "      <td id=\"T_7a3f0_row5_col1\" class=\"data row5 col1\" >слива</td>\n",
       "      <td id=\"T_7a3f0_row5_col2\" class=\"data row5 col2\" >дыня</td>\n",
       "      <td id=\"T_7a3f0_row5_col3\" class=\"data row5 col3\" >2.xlsx</td>\n",
       "      <td id=\"T_7a3f0_row5_col4\" class=\"data row5 col4\" >nan</td>\n",
       "    </tr>\n",
       "  </tbody>\n",
       "</table>\n"
      ],
      "text/plain": [
       "<pandas.io.formats.style.Styler at 0x21362a156c8>"
      ]
     },
     "execution_count": 46,
     "metadata": {},
     "output_type": "execute_result"
    }
   ],
   "source": [
    "#скрыть индекс из фрейма данных\n",
    "df.style.hide_index()"
   ]
  },
  {
   "cell_type": "code",
   "execution_count": 52,
   "id": "a274eca6",
   "metadata": {},
   "outputs": [],
   "source": [
    "#экспорт в эксел без инжекса\n",
    "df.to_excel(\"df.xlsx\", sheet_name='Probability', startrow=3, startcol=0, index=False)"
   ]
  },
  {
   "cell_type": "code",
   "execution_count": null,
   "id": "fad8d795",
   "metadata": {},
   "outputs": [],
   "source": []
  }
 ],
 "metadata": {
  "kernelspec": {
   "display_name": "Python 3 (ipykernel)",
   "language": "python",
   "name": "python3"
  },
  "language_info": {
   "codemirror_mode": {
    "name": "ipython",
    "version": 3
   },
   "file_extension": ".py",
   "mimetype": "text/x-python",
   "name": "python",
   "nbconvert_exporter": "python",
   "pygments_lexer": "ipython3",
   "version": "3.7.4"
  }
 },
 "nbformat": 4,
 "nbformat_minor": 5
}
